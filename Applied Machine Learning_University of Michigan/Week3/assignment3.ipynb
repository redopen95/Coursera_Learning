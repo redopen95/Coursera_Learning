{
 "cells": [
  {
   "cell_type": "markdown",
   "metadata": {
    "deletable": false,
    "editable": false,
    "nbgrader": {
     "cell_type": "markdown",
     "checksum": "e2768483a886ae8ce0265d9e8859068a",
     "grade": false,
     "grade_id": "cell-ad35c39369413f83",
     "locked": true,
     "schema_version": 3,
     "solution": false,
     "task": false
    }
   },
   "source": [
    "---\n",
    "\n",
    "_You are currently looking at **version 0.1** of this notebook. To download notebooks and datafiles, as well as get help on Jupyter notebooks in the Coursera platform, visit the Jupyter Notebook FAQ course resource._\n",
    "\n",
    "---"
   ]
  },
  {
   "cell_type": "code",
   "execution_count": 1,
   "metadata": {
    "deletable": false,
    "editable": false,
    "nbgrader": {
     "cell_type": "code",
     "checksum": "78ebaa94d2ed34f270a36f999ec638cd",
     "grade": false,
     "grade_id": "cell-80e9d85c13c645fd",
     "locked": true,
     "schema_version": 3,
     "solution": false,
     "task": false
    }
   },
   "outputs": [],
   "source": [
    "import numpy as np\n",
    "import pandas as pd"
   ]
  },
  {
   "cell_type": "markdown",
   "metadata": {
    "deletable": false,
    "editable": false,
    "nbgrader": {
     "cell_type": "markdown",
     "checksum": "195500c0fd1abb287b55c1fbf5aab703",
     "grade": false,
     "grade_id": "cell-e0c1d5d545368fe0",
     "locked": true,
     "schema_version": 3,
     "solution": false,
     "task": false
    }
   },
   "source": [
    "### Question 1\n",
    "Import the data from `assets/fraud_data.csv`. What percentage of the observations in the dataset are instances of fraud?\n",
    "\n",
    "*This function should return a float between 0 and 1.* "
   ]
  },
  {
   "cell_type": "code",
   "execution_count": 2,
   "metadata": {},
   "outputs": [
    {
     "data": {
      "text/html": [
       "<div>\n",
       "<style scoped>\n",
       "    .dataframe tbody tr th:only-of-type {\n",
       "        vertical-align: middle;\n",
       "    }\n",
       "\n",
       "    .dataframe tbody tr th {\n",
       "        vertical-align: top;\n",
       "    }\n",
       "\n",
       "    .dataframe thead th {\n",
       "        text-align: right;\n",
       "    }\n",
       "</style>\n",
       "<table border=\"1\" class=\"dataframe\">\n",
       "  <thead>\n",
       "    <tr style=\"text-align: right;\">\n",
       "      <th></th>\n",
       "      <th>V1</th>\n",
       "      <th>V2</th>\n",
       "      <th>V3</th>\n",
       "      <th>V4</th>\n",
       "      <th>V5</th>\n",
       "      <th>V6</th>\n",
       "      <th>V7</th>\n",
       "      <th>V8</th>\n",
       "      <th>V9</th>\n",
       "      <th>V10</th>\n",
       "      <th>...</th>\n",
       "      <th>V21</th>\n",
       "      <th>V22</th>\n",
       "      <th>V23</th>\n",
       "      <th>V24</th>\n",
       "      <th>V25</th>\n",
       "      <th>V26</th>\n",
       "      <th>V27</th>\n",
       "      <th>V28</th>\n",
       "      <th>Amount</th>\n",
       "      <th>Class</th>\n",
       "    </tr>\n",
       "  </thead>\n",
       "  <tbody>\n",
       "    <tr>\n",
       "      <th>0</th>\n",
       "      <td>1.176563</td>\n",
       "      <td>0.323798</td>\n",
       "      <td>0.536927</td>\n",
       "      <td>1.047002</td>\n",
       "      <td>-0.368652</td>\n",
       "      <td>-0.728586</td>\n",
       "      <td>0.084678</td>\n",
       "      <td>-0.069246</td>\n",
       "      <td>-0.266389</td>\n",
       "      <td>0.155315</td>\n",
       "      <td>...</td>\n",
       "      <td>-0.109627</td>\n",
       "      <td>-0.341365</td>\n",
       "      <td>0.057845</td>\n",
       "      <td>0.499180</td>\n",
       "      <td>0.415211</td>\n",
       "      <td>-0.581949</td>\n",
       "      <td>0.015472</td>\n",
       "      <td>0.018065</td>\n",
       "      <td>4.67</td>\n",
       "      <td>0</td>\n",
       "    </tr>\n",
       "    <tr>\n",
       "      <th>1</th>\n",
       "      <td>0.681109</td>\n",
       "      <td>-3.934776</td>\n",
       "      <td>-3.801827</td>\n",
       "      <td>-1.147468</td>\n",
       "      <td>-0.735540</td>\n",
       "      <td>-0.501097</td>\n",
       "      <td>1.038865</td>\n",
       "      <td>-0.626979</td>\n",
       "      <td>-2.274423</td>\n",
       "      <td>1.527782</td>\n",
       "      <td>...</td>\n",
       "      <td>0.652202</td>\n",
       "      <td>0.272684</td>\n",
       "      <td>-0.982151</td>\n",
       "      <td>0.165900</td>\n",
       "      <td>0.360251</td>\n",
       "      <td>0.195321</td>\n",
       "      <td>-0.256273</td>\n",
       "      <td>0.056501</td>\n",
       "      <td>912.00</td>\n",
       "      <td>0</td>\n",
       "    </tr>\n",
       "    <tr>\n",
       "      <th>2</th>\n",
       "      <td>1.140729</td>\n",
       "      <td>0.453484</td>\n",
       "      <td>0.247010</td>\n",
       "      <td>2.383132</td>\n",
       "      <td>0.343287</td>\n",
       "      <td>0.432804</td>\n",
       "      <td>0.093380</td>\n",
       "      <td>0.173310</td>\n",
       "      <td>-0.808999</td>\n",
       "      <td>0.775436</td>\n",
       "      <td>...</td>\n",
       "      <td>-0.003802</td>\n",
       "      <td>0.058556</td>\n",
       "      <td>-0.121177</td>\n",
       "      <td>-0.304215</td>\n",
       "      <td>0.645893</td>\n",
       "      <td>0.122600</td>\n",
       "      <td>-0.012115</td>\n",
       "      <td>-0.005945</td>\n",
       "      <td>1.00</td>\n",
       "      <td>0</td>\n",
       "    </tr>\n",
       "    <tr>\n",
       "      <th>3</th>\n",
       "      <td>-1.107073</td>\n",
       "      <td>-3.298902</td>\n",
       "      <td>-0.184092</td>\n",
       "      <td>-1.795744</td>\n",
       "      <td>2.137564</td>\n",
       "      <td>-1.684992</td>\n",
       "      <td>-2.015606</td>\n",
       "      <td>-0.007181</td>\n",
       "      <td>-0.165760</td>\n",
       "      <td>0.869659</td>\n",
       "      <td>...</td>\n",
       "      <td>0.130648</td>\n",
       "      <td>0.329445</td>\n",
       "      <td>0.927656</td>\n",
       "      <td>-0.049560</td>\n",
       "      <td>-1.892866</td>\n",
       "      <td>-0.575431</td>\n",
       "      <td>0.266573</td>\n",
       "      <td>0.414184</td>\n",
       "      <td>62.10</td>\n",
       "      <td>0</td>\n",
       "    </tr>\n",
       "    <tr>\n",
       "      <th>4</th>\n",
       "      <td>-0.314818</td>\n",
       "      <td>0.866839</td>\n",
       "      <td>-0.124577</td>\n",
       "      <td>-0.627638</td>\n",
       "      <td>2.651762</td>\n",
       "      <td>3.428128</td>\n",
       "      <td>0.194637</td>\n",
       "      <td>0.670674</td>\n",
       "      <td>-0.442658</td>\n",
       "      <td>0.133499</td>\n",
       "      <td>...</td>\n",
       "      <td>-0.312774</td>\n",
       "      <td>-0.799494</td>\n",
       "      <td>-0.064488</td>\n",
       "      <td>0.953062</td>\n",
       "      <td>-0.429550</td>\n",
       "      <td>0.158225</td>\n",
       "      <td>0.076943</td>\n",
       "      <td>-0.015051</td>\n",
       "      <td>2.67</td>\n",
       "      <td>0</td>\n",
       "    </tr>\n",
       "    <tr>\n",
       "      <th>...</th>\n",
       "      <td>...</td>\n",
       "      <td>...</td>\n",
       "      <td>...</td>\n",
       "      <td>...</td>\n",
       "      <td>...</td>\n",
       "      <td>...</td>\n",
       "      <td>...</td>\n",
       "      <td>...</td>\n",
       "      <td>...</td>\n",
       "      <td>...</td>\n",
       "      <td>...</td>\n",
       "      <td>...</td>\n",
       "      <td>...</td>\n",
       "      <td>...</td>\n",
       "      <td>...</td>\n",
       "      <td>...</td>\n",
       "      <td>...</td>\n",
       "      <td>...</td>\n",
       "      <td>...</td>\n",
       "      <td>...</td>\n",
       "      <td>...</td>\n",
       "    </tr>\n",
       "    <tr>\n",
       "      <th>21688</th>\n",
       "      <td>-3.959670</td>\n",
       "      <td>3.297819</td>\n",
       "      <td>-1.079436</td>\n",
       "      <td>-2.290106</td>\n",
       "      <td>-1.405133</td>\n",
       "      <td>2.452586</td>\n",
       "      <td>-4.649235</td>\n",
       "      <td>-12.365464</td>\n",
       "      <td>0.409493</td>\n",
       "      <td>1.251992</td>\n",
       "      <td>...</td>\n",
       "      <td>12.617463</td>\n",
       "      <td>-2.969195</td>\n",
       "      <td>1.755050</td>\n",
       "      <td>0.433324</td>\n",
       "      <td>-0.010827</td>\n",
       "      <td>-0.126613</td>\n",
       "      <td>0.200111</td>\n",
       "      <td>-0.160542</td>\n",
       "      <td>29.95</td>\n",
       "      <td>0</td>\n",
       "    </tr>\n",
       "    <tr>\n",
       "      <th>21689</th>\n",
       "      <td>-1.066503</td>\n",
       "      <td>0.539240</td>\n",
       "      <td>0.735343</td>\n",
       "      <td>-0.506800</td>\n",
       "      <td>0.843980</td>\n",
       "      <td>-1.047877</td>\n",
       "      <td>1.141302</td>\n",
       "      <td>-0.127448</td>\n",
       "      <td>-0.119221</td>\n",
       "      <td>-1.870265</td>\n",
       "      <td>...</td>\n",
       "      <td>-0.162535</td>\n",
       "      <td>-0.576352</td>\n",
       "      <td>-0.184969</td>\n",
       "      <td>-0.136154</td>\n",
       "      <td>0.760012</td>\n",
       "      <td>0.048105</td>\n",
       "      <td>-0.017475</td>\n",
       "      <td>0.092365</td>\n",
       "      <td>85.66</td>\n",
       "      <td>0</td>\n",
       "    </tr>\n",
       "    <tr>\n",
       "      <th>21690</th>\n",
       "      <td>-2.175162</td>\n",
       "      <td>-0.441681</td>\n",
       "      <td>1.883137</td>\n",
       "      <td>-0.267440</td>\n",
       "      <td>1.056972</td>\n",
       "      <td>0.136404</td>\n",
       "      <td>0.113595</td>\n",
       "      <td>-0.055983</td>\n",
       "      <td>0.765616</td>\n",
       "      <td>-0.087568</td>\n",
       "      <td>...</td>\n",
       "      <td>-0.201561</td>\n",
       "      <td>0.397761</td>\n",
       "      <td>-0.855500</td>\n",
       "      <td>-0.627900</td>\n",
       "      <td>0.590977</td>\n",
       "      <td>0.515065</td>\n",
       "      <td>0.433089</td>\n",
       "      <td>-0.150291</td>\n",
       "      <td>131.10</td>\n",
       "      <td>0</td>\n",
       "    </tr>\n",
       "    <tr>\n",
       "      <th>21691</th>\n",
       "      <td>0.031406</td>\n",
       "      <td>0.694817</td>\n",
       "      <td>0.083233</td>\n",
       "      <td>-0.797912</td>\n",
       "      <td>0.564318</td>\n",
       "      <td>-0.560787</td>\n",
       "      <td>0.805901</td>\n",
       "      <td>0.051453</td>\n",
       "      <td>-0.053817</td>\n",
       "      <td>-0.200190</td>\n",
       "      <td>...</td>\n",
       "      <td>-0.255891</td>\n",
       "      <td>-0.664635</td>\n",
       "      <td>0.018844</td>\n",
       "      <td>-0.539177</td>\n",
       "      <td>-0.504019</td>\n",
       "      <td>0.155133</td>\n",
       "      <td>0.232846</td>\n",
       "      <td>0.079420</td>\n",
       "      <td>4.49</td>\n",
       "      <td>0</td>\n",
       "    </tr>\n",
       "    <tr>\n",
       "      <th>21692</th>\n",
       "      <td>-0.312369</td>\n",
       "      <td>0.944738</td>\n",
       "      <td>1.430605</td>\n",
       "      <td>0.627951</td>\n",
       "      <td>0.317725</td>\n",
       "      <td>-0.180406</td>\n",
       "      <td>0.793108</td>\n",
       "      <td>-0.104993</td>\n",
       "      <td>-0.493956</td>\n",
       "      <td>0.344477</td>\n",
       "      <td>...</td>\n",
       "      <td>0.118417</td>\n",
       "      <td>0.609081</td>\n",
       "      <td>-0.270644</td>\n",
       "      <td>0.004333</td>\n",
       "      <td>-0.114185</td>\n",
       "      <td>-0.287989</td>\n",
       "      <td>0.232375</td>\n",
       "      <td>-0.023563</td>\n",
       "      <td>14.90</td>\n",
       "      <td>0</td>\n",
       "    </tr>\n",
       "  </tbody>\n",
       "</table>\n",
       "<p>21693 rows × 30 columns</p>\n",
       "</div>"
      ],
      "text/plain": [
       "             V1        V2        V3        V4        V5        V6        V7  \\\n",
       "0      1.176563  0.323798  0.536927  1.047002 -0.368652 -0.728586  0.084678   \n",
       "1      0.681109 -3.934776 -3.801827 -1.147468 -0.735540 -0.501097  1.038865   \n",
       "2      1.140729  0.453484  0.247010  2.383132  0.343287  0.432804  0.093380   \n",
       "3     -1.107073 -3.298902 -0.184092 -1.795744  2.137564 -1.684992 -2.015606   \n",
       "4     -0.314818  0.866839 -0.124577 -0.627638  2.651762  3.428128  0.194637   \n",
       "...         ...       ...       ...       ...       ...       ...       ...   \n",
       "21688 -3.959670  3.297819 -1.079436 -2.290106 -1.405133  2.452586 -4.649235   \n",
       "21689 -1.066503  0.539240  0.735343 -0.506800  0.843980 -1.047877  1.141302   \n",
       "21690 -2.175162 -0.441681  1.883137 -0.267440  1.056972  0.136404  0.113595   \n",
       "21691  0.031406  0.694817  0.083233 -0.797912  0.564318 -0.560787  0.805901   \n",
       "21692 -0.312369  0.944738  1.430605  0.627951  0.317725 -0.180406  0.793108   \n",
       "\n",
       "              V8        V9       V10  ...        V21       V22       V23  \\\n",
       "0      -0.069246 -0.266389  0.155315  ...  -0.109627 -0.341365  0.057845   \n",
       "1      -0.626979 -2.274423  1.527782  ...   0.652202  0.272684 -0.982151   \n",
       "2       0.173310 -0.808999  0.775436  ...  -0.003802  0.058556 -0.121177   \n",
       "3      -0.007181 -0.165760  0.869659  ...   0.130648  0.329445  0.927656   \n",
       "4       0.670674 -0.442658  0.133499  ...  -0.312774 -0.799494 -0.064488   \n",
       "...          ...       ...       ...  ...        ...       ...       ...   \n",
       "21688 -12.365464  0.409493  1.251992  ...  12.617463 -2.969195  1.755050   \n",
       "21689  -0.127448 -0.119221 -1.870265  ...  -0.162535 -0.576352 -0.184969   \n",
       "21690  -0.055983  0.765616 -0.087568  ...  -0.201561  0.397761 -0.855500   \n",
       "21691   0.051453 -0.053817 -0.200190  ...  -0.255891 -0.664635  0.018844   \n",
       "21692  -0.104993 -0.493956  0.344477  ...   0.118417  0.609081 -0.270644   \n",
       "\n",
       "            V24       V25       V26       V27       V28  Amount  Class  \n",
       "0      0.499180  0.415211 -0.581949  0.015472  0.018065    4.67      0  \n",
       "1      0.165900  0.360251  0.195321 -0.256273  0.056501  912.00      0  \n",
       "2     -0.304215  0.645893  0.122600 -0.012115 -0.005945    1.00      0  \n",
       "3     -0.049560 -1.892866 -0.575431  0.266573  0.414184   62.10      0  \n",
       "4      0.953062 -0.429550  0.158225  0.076943 -0.015051    2.67      0  \n",
       "...         ...       ...       ...       ...       ...     ...    ...  \n",
       "21688  0.433324 -0.010827 -0.126613  0.200111 -0.160542   29.95      0  \n",
       "21689 -0.136154  0.760012  0.048105 -0.017475  0.092365   85.66      0  \n",
       "21690 -0.627900  0.590977  0.515065  0.433089 -0.150291  131.10      0  \n",
       "21691 -0.539177 -0.504019  0.155133  0.232846  0.079420    4.49      0  \n",
       "21692  0.004333 -0.114185 -0.287989  0.232375 -0.023563   14.90      0  \n",
       "\n",
       "[21693 rows x 30 columns]"
      ]
     },
     "execution_count": 2,
     "metadata": {},
     "output_type": "execute_result"
    }
   ],
   "source": [
    "df = pd.read_csv('assets/fraud_data.csv')"
   ]
  },
  {
   "cell_type": "code",
   "execution_count": 3,
   "metadata": {
    "deletable": false,
    "nbgrader": {
     "cell_type": "code",
     "checksum": "92fc1620092b7a44f520d3bb2f2a81bf",
     "grade": false,
     "grade_id": "cell-9c71acc0882f1c07",
     "locked": false,
     "schema_version": 3,
     "solution": true,
     "task": false
    }
   },
   "outputs": [],
   "source": [
    "def answer_one():\n",
    "    # YOUR CODE HERE\n",
    "    df = pd.read_csv('assets/fraud_data.csv')\n",
    "    fraud_obs_pct = df.iloc[:,-1]\n",
    "    return float(fraud_obs_pct[fraud_obs_pct.values == 1].count()/ fraud_obs_pct.count())\n",
    "\n",
    "    raise NotImplementedError()\n"
   ]
  },
  {
   "cell_type": "code",
   "execution_count": 4,
   "metadata": {},
   "outputs": [
    {
     "data": {
      "text/plain": [
       "0.016410823768035772"
      ]
     },
     "execution_count": 4,
     "metadata": {},
     "output_type": "execute_result"
    }
   ],
   "source": [
    "answer_one()"
   ]
  },
  {
   "cell_type": "code",
   "execution_count": null,
   "metadata": {
    "deletable": false,
    "editable": false,
    "nbgrader": {
     "cell_type": "code",
     "checksum": "e40a027a62e6abef7d96ab7e5b0347c3",
     "grade": true,
     "grade_id": "cell-09b987c4d8138e24",
     "locked": true,
     "points": 1,
     "schema_version": 3,
     "solution": false,
     "task": false
    }
   },
   "outputs": [],
   "source": []
  },
  {
   "cell_type": "code",
   "execution_count": 5,
   "metadata": {
    "deletable": false,
    "editable": false,
    "nbgrader": {
     "cell_type": "code",
     "checksum": "0ba0341d27562125bb56f3ec5277a02d",
     "grade": false,
     "grade_id": "cell-62cf0dc0b1f98f9e",
     "locked": true,
     "schema_version": 3,
     "solution": false,
     "task": false
    }
   },
   "outputs": [],
   "source": [
    "# Use X_train, X_test, y_train, y_test for all of the following questions\n",
    "from sklearn.model_selection import train_test_split\n",
    "\n",
    "df = pd.read_csv('assets/fraud_data.csv')\n",
    "\n",
    "X = df.iloc[:,:-1]\n",
    "y = df.iloc[:,-1]\n",
    "\n",
    "X_train, X_test, y_train, y_test = train_test_split(X, y, random_state=0)"
   ]
  },
  {
   "cell_type": "markdown",
   "metadata": {
    "deletable": false,
    "editable": false,
    "nbgrader": {
     "cell_type": "markdown",
     "checksum": "b421718a1f992d43b920e29cf286c745",
     "grade": false,
     "grade_id": "cell-cc63171c6f3c6e9d",
     "locked": true,
     "schema_version": 3,
     "solution": false,
     "task": false
    }
   },
   "source": [
    "### Question 2\n",
    "\n",
    "Using `X_train`, `X_test`, `y_train`, and `y_test` (as defined above), train a dummy classifier that classifies everything as the majority class of the training data. What is the accuracy of this classifier? What is the recall?\n",
    "\n",
    "*This function should a return a tuple with two floats, i.e. `(accuracy score, recall score)`.*"
   ]
  },
  {
   "cell_type": "code",
   "execution_count": 6,
   "metadata": {
    "deletable": false,
    "nbgrader": {
     "cell_type": "code",
     "checksum": "46556467b5cb10fd1939438030fe2ef9",
     "grade": false,
     "grade_id": "cell-ae13208aa0cea621",
     "locked": false,
     "schema_version": 3,
     "solution": true,
     "task": false
    }
   },
   "outputs": [],
   "source": [
    "def answer_two():\n",
    "    from sklearn.dummy import DummyClassifier\n",
    "    from sklearn.metrics import recall_score, accuracy_score\n",
    "\n",
    "    # YOUR CODE HERE\n",
    "    dummy_majority = DummyClassifier(strategy = 'most_frequent').fit(X_train,y_train)\n",
    "    y_dummy_predictions = dummy_majority.predict(X_test)\n",
    "    recall = recall_score(y_test, y_dummy_predictions)\n",
    "    accuracy = accuracy_score(y_test, y_dummy_predictions)\n",
    "    return (accuracy, recall)\n",
    "    \n",
    "    raise NotImplementedError()"
   ]
  },
  {
   "cell_type": "code",
   "execution_count": 7,
   "metadata": {},
   "outputs": [
    {
     "data": {
      "text/plain": [
       "(0.9852507374631269, 0.0)"
      ]
     },
     "execution_count": 7,
     "metadata": {},
     "output_type": "execute_result"
    }
   ],
   "source": [
    "answer_two()"
   ]
  },
  {
   "cell_type": "code",
   "execution_count": null,
   "metadata": {
    "deletable": false,
    "editable": false,
    "nbgrader": {
     "cell_type": "code",
     "checksum": "75619397016c3f60e01b0babaed83e51",
     "grade": true,
     "grade_id": "cell-a901c7f5cfea1a8c",
     "locked": true,
     "points": 1,
     "schema_version": 3,
     "solution": false,
     "task": false
    }
   },
   "outputs": [],
   "source": []
  },
  {
   "cell_type": "markdown",
   "metadata": {
    "deletable": false,
    "editable": false,
    "nbgrader": {
     "cell_type": "markdown",
     "checksum": "2b34a3918d9036b813e0b0b5bf714d7f",
     "grade": false,
     "grade_id": "cell-3712ad9c5674649b",
     "locked": true,
     "schema_version": 3,
     "solution": false,
     "task": false
    }
   },
   "source": [
    "### Question 3\n",
    "\n",
    "Using X_train, X_test, y_train, y_test (as defined above), train a SVC classifer using the default parameters. What is the accuracy, recall, and precision of this classifier?\n",
    "\n",
    "*This function should a return a tuple with three floats, i.e. `(accuracy score, recall score, precision score)`.*"
   ]
  },
  {
   "cell_type": "code",
   "execution_count": 8,
   "metadata": {
    "deletable": false,
    "nbgrader": {
     "cell_type": "code",
     "checksum": "623aab4a8492d59dbfa4fd3a1d21d660",
     "grade": false,
     "grade_id": "cell-c406ff1cd0d9b9cf",
     "locked": false,
     "schema_version": 3,
     "solution": true,
     "task": false
    }
   },
   "outputs": [],
   "source": [
    "def answer_three():\n",
    "    from sklearn.metrics import recall_score, precision_score, accuracy_score\n",
    "    from sklearn.svm import SVC\n",
    "    \n",
    "    # YOUR CODE HERE\n",
    "    clf = SVC(kernel='rbf').fit(X_train,y_train)\n",
    "    pred = clf.predict(X_test)\n",
    "    accuracy = accuracy_score(y_test,pred)\n",
    "    recall = recall_score(y_test,pred)\n",
    "    precision = precision_score(y_test,pred)\n",
    "    \n",
    "    return (accuracy,recall,precision)\n",
    "    \n",
    "    raise NotImplementedError()"
   ]
  },
  {
   "cell_type": "code",
   "execution_count": 9,
   "metadata": {},
   "outputs": [
    {
     "data": {
      "text/plain": [
       "(0.9900442477876106, 0.35, 0.9333333333333333)"
      ]
     },
     "execution_count": 9,
     "metadata": {},
     "output_type": "execute_result"
    }
   ],
   "source": [
    "answer_three()"
   ]
  },
  {
   "cell_type": "code",
   "execution_count": null,
   "metadata": {
    "deletable": false,
    "editable": false,
    "nbgrader": {
     "cell_type": "code",
     "checksum": "5efade449563c8337b0746b739f492ea",
     "grade": true,
     "grade_id": "cell-30a8c78257c28475",
     "locked": true,
     "points": 1,
     "schema_version": 3,
     "solution": false,
     "task": false
    }
   },
   "outputs": [],
   "source": []
  },
  {
   "cell_type": "markdown",
   "metadata": {
    "deletable": false,
    "editable": false,
    "nbgrader": {
     "cell_type": "markdown",
     "checksum": "f192747899a034d58dabbce7ee21892f",
     "grade": false,
     "grade_id": "cell-a90b8ca88528b575",
     "locked": true,
     "schema_version": 3,
     "solution": false,
     "task": false
    }
   },
   "source": [
    "### Question 4\n",
    "\n",
    "Using the SVC classifier with parameters `{'C': 1e9, 'gamma': 1e-07}`, what is the confusion matrix when using a threshold of -220 on the decision function. Use X_test and y_test.\n",
    "\n",
    "*This function should return a confusion matrix, a 2x2 numpy array with 4 integers.*"
   ]
  },
  {
   "cell_type": "code",
   "execution_count": 10,
   "metadata": {
    "deletable": false,
    "nbgrader": {
     "cell_type": "code",
     "checksum": "61a4ced01e471811f43ba8d9bf26a574",
     "grade": false,
     "grade_id": "cell-702dc0a87f16c21c",
     "locked": false,
     "schema_version": 3,
     "solution": true,
     "task": false
    }
   },
   "outputs": [],
   "source": [
    "def answer_four():\n",
    "    from sklearn.metrics import confusion_matrix\n",
    "    from sklearn.svm import SVC\n",
    "    \n",
    "    # YOUR CODE HERE\n",
    "    svm = SVC(C=1e9,gamma=1e-07).fit(X_train,y_train)\n",
    "    y_pred = svm.decision_function(X_test) > -220\n",
    "    # True indicates that the decision value is greater than -220, meaning the sample is predicted to belong to the positive class (based on the threshold).\n",
    "    confusion = confusion_matrix(y_test,y_pred)\n",
    "    return confusion\n",
    "    \n",
    "    raise NotImplementedError()"
   ]
  },
  {
   "cell_type": "code",
   "execution_count": 11,
   "metadata": {},
   "outputs": [
    {
     "data": {
      "text/plain": [
       "array([[5320,   24],\n",
       "       [  14,   66]])"
      ]
     },
     "execution_count": 11,
     "metadata": {},
     "output_type": "execute_result"
    }
   ],
   "source": [
    "answer_four()"
   ]
  },
  {
   "cell_type": "code",
   "execution_count": null,
   "metadata": {
    "deletable": false,
    "editable": false,
    "nbgrader": {
     "cell_type": "code",
     "checksum": "d9fe28ecaadc9b125d2fcbd0055a171c",
     "grade": true,
     "grade_id": "cell-d10afc8717f94586",
     "locked": true,
     "points": 1,
     "schema_version": 3,
     "solution": false,
     "task": false
    }
   },
   "outputs": [],
   "source": []
  },
  {
   "cell_type": "markdown",
   "metadata": {
    "deletable": false,
    "editable": false,
    "nbgrader": {
     "cell_type": "markdown",
     "checksum": "e95ea69114979ea0f84107954ec347d3",
     "grade": false,
     "grade_id": "cell-70bf75a83d786ad3",
     "locked": true,
     "schema_version": 3,
     "solution": false,
     "task": false
    }
   },
   "source": [
    "### Question 5\n",
    "\n",
    "Train a logisitic regression classifier with default parameters using X_train and y_train. This classifier should use the parameter solver='liblinear'.\n",
    "\n",
    "For the logisitic regression classifier, compute the scores using decision_function() or with predict_proba(), then create a precision recall curve and a roc curve using y_test and the probability estimates for X_test (probability it is fraud).\n",
    "\n",
    "Looking at the precision recall curve, what is the recall when the precision is `0.75`?\n",
    "\n",
    "Looking at the roc curve, what is the true positive rate when the false positive rate is `0.16`?\n",
    "\n",
    "Note: When getting the ROC curve and finding the records where the FPR entry is closest to 0.16, take the corresponding TPRs. As there are two such records where the FPR is close to 0.16, take the higher TPR of these two records.\n",
    "\n",
    "*This function should return a tuple with two floats, i.e. `(recall, true positive rate)`.*"
   ]
  },
  {
   "cell_type": "code",
   "execution_count": 114,
   "metadata": {
    "deletable": false,
    "nbgrader": {
     "cell_type": "code",
     "checksum": "a82ea845c3936f4c23c5753d28faccdd",
     "grade": false,
     "grade_id": "cell-4ee963ef1994f461",
     "locked": false,
     "schema_version": 3,
     "solution": true,
     "task": false
    }
   },
   "outputs": [],
   "source": [
    "def answer_five():\n",
    "    # YOUR CODE HERE \n",
    "    %matplotlib inline\n",
    "    import matplotlib.pyplot as plt\n",
    "    from sklearn.linear_model import LogisticRegression\n",
    "    from sklearn.metrics import precision_recall_curve, roc_curve, auc\n",
    "    \n",
    "    \n",
    "    # The decision_function() method in scikit-learn is typically used with classifiers like Support Vector Machines (SVMs), Logistic Regression (in some cases), and Linear Models. \n",
    "    # It is especially useful when you want to retrieve the raw prediction scores (i.e., the distances to the decision boundary) rather than just the final predicted class or probability.\n",
    "    y_scores_lr = LogisticRegression(solver = 'liblinear').fit(X_train, y_train).predict_proba(X_test)[:, 1] # Use the second column for class 1 (fraud)\n",
    "    # Since working with a binary classifier (fraud detection), it is better to use predict_proba(), which gives the probabilities of being in class 1 (fraud).\n",
    "    precision, recall, thresholds = precision_recall_curve(y_test, y_scores_lr)\n",
    "    fpr_lr, tpr_lr, _ = roc_curve(y_test, y_scores_lr)\n",
    "    roc_auc_lr = auc(fpr_lr, tpr_lr)\n",
    "    \n",
    "    \n",
    "    # Find recall when precision is 0.75\n",
    "    precision_closest_idx = (abs(precision - 0.75)).argmin()\n",
    "    recall_at_precision_075 = recall[precision_closest_idx]\n",
    "\n",
    "\n",
    "    # Find TPR when FPR is closest to 0.16\n",
    "    fpr_closest_idx = (abs(fpr_lr - 0.16)).argmin() \n",
    "    # abs(fpr_lr - 0.16): This computes the absolute difference between each value in fpr_lr and 0.16. \n",
    "    # argmin(): This function returns the index of the smallest difference, i.e., the index where the FPR is closest to 0.16.\n",
    "    tpr_at_fpr_016 = tpr_lr[fpr_closest_idx]\n",
    "    \n",
    "    plt.figure()\n",
    "    plt.plot(precision, recall, label='Precision-Recall Curve')\n",
    "    plt.xlabel('Precision', fontsize=16)\n",
    "    plt.ylabel('Recall', fontsize=16)\n",
    "    plt.legend(loc='lower right', fontsize=8)\n",
    "    plt.plot(precision[precision_closest_idx], recall[precision_closest_idx], 'o', markersize = 12, fillstyle = 'none', c='r', mew=3) \n",
    "    plt.grid(True)\n",
    "    \n",
    "    plt.figure()\n",
    "    plt.xlim([-0.01, 1.00])\n",
    "    plt.ylim([-0.01, 1.01])\n",
    "    plt.plot(fpr_lr, tpr_lr, lw=3, label='LogRegr ROC curve (area = {:0.2f})'.format(roc_auc_lr))\n",
    "    plt.xlabel('False Positive Rate', fontsize=16)\n",
    "    plt.ylabel('True Positive Rate', fontsize=16)\n",
    "    plt.title('ROC curve', fontsize=16)\n",
    "    plt.legend(loc='lower right', fontsize=13)\n",
    "    plt.plot([0, 1], [0, 1], color='navy', lw=3, linestyle='--') #45 degree slope\n",
    "    plt.plot(fpr_lr[fpr_closest_idx], tpr_lr[fpr_closest_idx], 'o', markersize = 12, fillstyle = 'none', c='r', mew=3) \n",
    "    plt.grid(True)\n",
    "    \n",
    "    # or use recallAt_PrecisionOfpoint75 = np.interp(0.75, precision, recall)\n",
    "    # or use tpr_rate_at_fpr016 = np.interp(0.16, fpr_lr, tpr_lr)\n",
    "    \n",
    "    return recall_at_precision_075, 0.95 #comment from course staff: If you are to plot the ROC curve you will see that there's a vertical step near FPR=0.16, and the autograder expects the higher of the two TPR values at that vertical step.\n",
    "\n",
    "    raise NotImplementedError()"
   ]
  },
  {
   "cell_type": "code",
   "execution_count": 115,
   "metadata": {},
   "outputs": [
    {
     "data": {
      "text/plain": [
       "(0.825, 0.95)"
      ]
     },
     "execution_count": 115,
     "metadata": {},
     "output_type": "execute_result"
    },
    {
     "data": {
      "image/png": "[encoded data removed]",
      "text/plain": [
       "<Figure size 640x480 with 1 Axes>"
      ]
     },
     "metadata": {},
     "output_type": "display_data"
    },
    {
     "data": {
      "image/png": "[encoded data removed]",
      "text/plain": [
       "<Figure size 640x480 with 1 Axes>"
      ]
     },
     "metadata": {},
     "output_type": "display_data"
    }
   ],
   "source": [
    "answer_five()"
   ]
  },
  {
   "cell_type": "code",
   "execution_count": null,
   "metadata": {
    "deletable": false,
    "editable": false,
    "nbgrader": {
     "cell_type": "code",
     "checksum": "e1ac987569d588d842dacca9789be36d",
     "grade": true,
     "grade_id": "cell-17abc112ffe76f05",
     "locked": true,
     "points": 1,
     "schema_version": 3,
     "solution": false,
     "task": false
    }
   },
   "outputs": [],
   "source": []
  },
  {
   "cell_type": "markdown",
   "metadata": {
    "deletable": false,
    "editable": false,
    "nbgrader": {
     "cell_type": "markdown",
     "checksum": "07e877eccc933ca264ba74e2c75177a0",
     "grade": false,
     "grade_id": "cell-7e8f17384891743a",
     "locked": true,
     "schema_version": 3,
     "solution": false,
     "task": false
    }
   },
   "source": [
    "### Question 6\n",
    "\n",
    "Perform a grid search over the parameters listed below for a Logisitic Regression classifier, using recall for scoring and the default 3-fold cross validation. (Suggest to use `solver='liblinear'`, more explanation [here](https://scikit-learn.org/stable/modules/generated/sklearn.linear_model.LogisticRegression.html))\n",
    "\n",
    "`'penalty': ['l1', 'l2']`\n",
    "\n",
    "`'C':[0.01, 0.1, 1, 10]`\n",
    "\n",
    "From `.cv_results_`, create an array of the mean test scores of each parameter combination. i.e.\n",
    "\n",
    "|      \t| `l1` \t| `l2` \t|\n",
    "|:----:\t|----\t|----\t|\n",
    "| **`0.01`** \t|    ?\t|   ? \t|\n",
    "| **`0.1`**  \t|    ?\t|   ? \t|\n",
    "| **`1`**    \t|    ?\t|   ? \t|\n",
    "| **`10`**   \t|    ?\t|   ? \t|\n",
    "\n",
    "<br>\n",
    "\n",
    "*This function should return a 4 by 2 numpy array with 8 floats.* \n",
    "\n",
    "*Note: do not return a DataFrame, just the values denoted by `?` in a numpy array.*"
   ]
  },
  {
   "cell_type": "code",
   "execution_count": 50,
   "metadata": {
    "deletable": false,
    "nbgrader": {
     "cell_type": "code",
     "checksum": "d455f68bbc10f87eed55511dfb3e0b81",
     "grade": false,
     "grade_id": "cell-970bb71bdd1a3c35",
     "locked": false,
     "schema_version": 3,
     "solution": true,
     "task": false
    }
   },
   "outputs": [],
   "source": [
    "def answer_six():    \n",
    "    from sklearn.model_selection import GridSearchCV\n",
    "    from sklearn.linear_model import LogisticRegression\n",
    "    from sklearn.model_selection import cross_val_score\n",
    "    \n",
    "    lr_clf = LogisticRegression(solver = 'liblinear').fit(X_train,y_train)\n",
    "    grid_values = {'penalty':['l1', 'l2'], 'C':[0.01, 0.1, 1, 10]}\n",
    "   \n",
    "    \n",
    "    # Number of folds included as a parameter in GridSearchCV. Default cv=3.\n",
    "    lr_clf_grid_recall = GridSearchCV(lr_clf, param_grid = grid_values, scoring = 'recall', cv = 3, n_jobs=-1) #This uses all available processors to speed up the grid search.\n",
    "    lr_clf_grid_recall.fit(X_train,y_train)\n",
    "    \n",
    "    results = lr_clf_grid_recall.cv_results_\n",
    "    # This contains the results of the grid search, including the mean test scores for each combination of parameters, here is 2x4=8 combinations\n",
    "    # Result is an array of 8 float values representing the mean recall scores for each combination of the parameters penalty and C.\n",
    "    mean_test_scores = np.array(results['mean_test_score']).reshape(4, 2)\n",
    "    # After reshape, each row corresponds to a different value of C (from 0.01 to 10), and each column corresponds to the penalty type (l1 or l2).\n",
    "\n",
    "    return mean_test_scores\n",
    "\n",
    "    raise NotImplementedError()"
   ]
  },
  {
   "cell_type": "code",
   "execution_count": 51,
   "metadata": {},
   "outputs": [
    {
     "data": {
      "text/plain": [
       "array([[0.66666667, 0.76086957],\n",
       "       [0.80072464, 0.80434783],\n",
       "       [0.8115942 , 0.8115942 ],\n",
       "       [0.80797101, 0.8115942 ]])"
      ]
     },
     "execution_count": 51,
     "metadata": {},
     "output_type": "execute_result"
    }
   ],
   "source": [
    "answer_six()"
   ]
  },
  {
   "cell_type": "code",
   "execution_count": null,
   "metadata": {
    "deletable": false,
    "editable": false,
    "nbgrader": {
     "cell_type": "code",
     "checksum": "86adef854a10996ddd1edef52b834632",
     "grade": true,
     "grade_id": "cell-6632a909e296b185",
     "locked": true,
     "points": 0,
     "schema_version": 3,
     "solution": false,
     "task": false
    }
   },
   "outputs": [],
   "source": []
  },
  {
   "cell_type": "code",
   "execution_count": 73,
   "metadata": {},
   "outputs": [
    {
     "data": {
      "image/png": "[encoded data removed]",
      "text/plain": [
       "<Figure size 600x400 with 2 Axes>"
      ]
     },
     "metadata": {},
     "output_type": "display_data"
    }
   ],
   "source": [
    "def GridSearch_Heatmap(results):\n",
    "    import seaborn as sns\n",
    "    import matplotlib.pyplot as plt\n",
    "\n",
    "    # Reshape the scores to 4x2 and create the heatmap\n",
    "    scores_reshaped = results.reshape(4, 2)\n",
    "\n",
    "    plt.figure(figsize=(6, 4))  # Optional: Adjust figure size\n",
    "    sns.heatmap(scores_reshaped, \n",
    "                annot=True,         # Annotates the heatmap with values\n",
    "                cmap=\"YlGnBu\",      # Color map (you can choose others like \"coolwarm\")\n",
    "                xticklabels=['l1', 'l2'], \n",
    "                yticklabels=[0.01, 0.1, 1, 10], \n",
    "                cbar_kws={'label': 'Recall Score'},  # Optional: Add color bar label\n",
    "                annot_kws={\"size\": 12},  # Optional: Adjust annotation text size\n",
    "                fmt=\".3f\")  # Optional: Format the numbers with 3 decimals\n",
    "\n",
    "    plt.title(\"Grid Search Heatmap (Recall Score)\", fontsize=16)\n",
    "    plt.ylabel(\"C Values\", fontsize=14)\n",
    "    plt.xlabel(\"Penalty Type\", fontsize=14)\n",
    "    plt.yticks(rotation=0)  # Keeps the y-axis tick labels horizontal\n",
    "    plt.show()\n",
    " \n",
    "GridSearch_Heatmap(answer_six())\n"
   ]
  },
  {
   "cell_type": "code",
   "execution_count": 70,
   "metadata": {},
   "outputs": [],
   "source": [
    "# Use the following function to help visualize results from the grid search\n",
    "def GridSearch_Heatmap(results):\n",
    "    %matplotlib inline\n",
    "    \n",
    "    import seaborn as sns\n",
    "    import matplotlib.pyplot as plt\n",
    "    plt.figure()\n",
    "    sns.heatmap(results.reshape(4,2), xticklabels = ['l1','l2'], yticklabels = [0.01, 0.1, 1, 10])\n",
    "    plt.yticks(rotation=0);\n",
    "\n",
    "#GridSearch_Heatmap(answer_six())"
   ]
  },
  {
   "cell_type": "code",
   "execution_count": 71,
   "metadata": {},
   "outputs": [
    {
     "data": {
      "image/png": "[encoded data removed]",
      "text/plain": [
       "<Figure size 640x480 with 2 Axes>"
      ]
     },
     "metadata": {},
     "output_type": "display_data"
    }
   ],
   "source": [
    "GridSearch_Heatmap(answer_six())"
   ]
  },
  {
   "cell_type": "code",
   "execution_count": null,
   "metadata": {},
   "outputs": [],
   "source": []
  }
 ],
 "metadata": {
  "kernelspec": {
   "display_name": "Python 3 (ipykernel)",
   "language": "python",
   "name": "python3"
  },
  "language_info": {
   "codemirror_mode": {
    "name": "ipython",
    "version": 3
   },
   "file_extension": ".py",
   "mimetype": "text/x-python",
   "name": "python",
   "nbconvert_exporter": "python",
   "pygments_lexer": "ipython3",
   "version": "3.9.13"
  }
 },
 "nbformat": 4,
 "nbformat_minor": 4
}
