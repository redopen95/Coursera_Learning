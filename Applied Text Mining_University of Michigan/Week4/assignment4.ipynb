{
 "cells": [
  {
   "cell_type": "markdown",
   "metadata": {
    "deletable": false,
    "editable": false,
    "nbgrader": {
     "cell_type": "markdown",
     "checksum": "b562fcdae0cf6bf26c71c079ad6296fb",
     "grade": false,
     "grade_id": "cell-9aeed736a0e899b5",
     "locked": true,
     "schema_version": 3,
     "solution": false,
     "task": false
    }
   },
   "source": [
    "# Assignment 4 - Document Similarity & Topic Modelling"
   ]
  },
  {
   "cell_type": "markdown",
   "metadata": {
    "deletable": false,
    "editable": false,
    "nbgrader": {
     "cell_type": "markdown",
     "checksum": "a45a724e7fe9eda42e35d96e051bcaa4",
     "grade": false,
     "grade_id": "cell-a932c63a4c180b33",
     "locked": true,
     "schema_version": 3,
     "solution": false,
     "task": false
    }
   },
   "source": [
    "## Part 1 - Document Similarity\n",
    "\n",
    "For the first part of this assignment, you will complete the functions `doc_to_synsets` and `similarity_score` which will be used by `document_path_similarity` to find the path similarity between two documents.\n",
    "\n",
    "The following functions are provided:\n",
    "* **`convert_tag:`** converts the tag given by `nltk.pos_tag` to a tag used by `wordnet.synsets`. You will need to use this function in `doc_to_synsets`.\n",
    "* **`document_path_similarity:`** computes the symmetrical path similarity between two documents by finding the synsets in each document using `doc_to_synsets`, then computing similarities using `similarity_score`.\n",
    "\n",
    "You will need to finish writing the following functions:\n",
    "* **`doc_to_synsets:`** returns a list of synsets in document. This function should first tokenize and part of speech tag the document using `nltk.word_tokenize` and `nltk.pos_tag`. Then it should find each tokens corresponding synset using `wn.synsets(token, wordnet_tag)`. The first synset match should be used. If there is no match, that token is skipped.\n",
    "* **`similarity_score:`** returns the normalized similarity score of a list of synsets (s1) onto a second list of synsets (s2). For each synset in s1, find the synset in s2 with the largest similarity value. Sum all of the largest similarity values together and normalize this value by dividing it by the number of largest similarity values found. Be careful with data types, which should be floats. Missing values should be ignored.\n",
    "\n",
    "Once doc_to_synsets and similarity_score have been completed, submit to the autograder which will run a test to check that these functions are running correctly.\n",
    "\n",
    "*Do not modify the functions `convert_tag` and `document_path_similarity`.*"
   ]
  },
  {
   "cell_type": "code",
   "execution_count": 1,
   "metadata": {
    "deletable": false,
    "editable": false,
    "nbgrader": {
     "cell_type": "code",
     "checksum": "e4e34c4781de9b9d593a31c58fea606c",
     "grade": false,
     "grade_id": "cell-2c29841f8b54b400",
     "locked": true,
     "schema_version": 3,
     "solution": false,
     "task": false
    }
   },
   "outputs": [],
   "source": [
    "%%capture\n",
    "import numpy as np\n",
    "import nltk\n",
    "nltk.download('punkt')\n",
    "nltk.download('averaged_perceptron_tagger')\n",
    "nltk.download('wordnet')\n",
    "nltk.download('omw-1.4')\n",
    "from nltk.corpus import wordnet as wn\n",
    "import pandas as pd\n",
    "nltk.data.path.append(\"assets/\")\n",
    "\n",
    "def convert_tag(tag):\n",
    "    \"\"\"Convert the tag given by nltk.pos_tag to the tag used by wordnet.synsets\"\"\"\n",
    "    \n",
    "    tag_dict = {'N': 'n', 'J': 'a', 'R': 'r', 'V': 'v'}\n",
    "    try:\n",
    "        return tag_dict[tag[0]]\n",
    "    except KeyError:\n",
    "        return None"
   ]
  },
  {
   "cell_type": "code",
   "execution_count": 2,
   "metadata": {
    "deletable": false,
    "nbgrader": {
     "cell_type": "code",
     "checksum": "654d281deb3c2923c393335ccb2e789e",
     "grade": false,
     "grade_id": "cell-22d836339ad6be8a",
     "locked": false,
     "schema_version": 3,
     "solution": true,
     "task": false
    }
   },
   "outputs": [],
   "source": [
    "def doc_to_synsets(doc):\n",
    "    \"\"\"\n",
    "    Returns a list of synsets in document.\n",
    "\n",
    "    Tokenizes and tags the words in the document doc.\n",
    "    Then finds the first synset for each word/tag combination.\n",
    "    If a synset is not found for that combination it is skipped.\n",
    "\n",
    "    Args:\n",
    "        doc: string to be converted\n",
    "\n",
    "    Returns:\n",
    "        list of synsets\n",
    "\n",
    "    Example:\n",
    "        doc_to_synsets('Fish are friends.')\n",
    "        Out: [Synset('fish.n.01'), Synset('be.v.01'), Synset('friend.n.01')]\n",
    "    \"\"\"\n",
    "\n",
    "    # YOUR CODE HERE\n",
    "    \n",
    "    # Tokenize and POS tag the document\n",
    "    tokens = nltk.word_tokenize(doc)\n",
    "    pos_tags = nltk.pos_tag(tokens)\n",
    "    \n",
    "    # Empty list for storaging valid synsets\n",
    "    synsets = []\n",
    "    \n",
    "    # For each token, get the corresponding WordNet synset\n",
    "    for word, pos in pos_tags:\n",
    "        wordnet_tag = convert_tag(pos)  # Convert POS tag to WordNet format\n",
    "        \n",
    "        # Print for debugging\n",
    "        #print(f\"Word: {word}, POS: {pos}, WordNet POS: {wordnet_tag}\")\n",
    "        \n",
    "        # If there's a valid WordNet tag, look for synsets\n",
    "        if wordnet_tag:  \n",
    "            synset = wn.synsets(word, pos = wordnet_tag)  # Get synsets for the word\n",
    "            if synset:  # If there's a matching synset, take the first one\n",
    "                synsets.append(synset[0])\n",
    "                \n",
    "        else:\n",
    "            # Try without any POS tag (None) if convert_tag returned None\n",
    "            synset = wn.synsets(word)  # Get synsets without a specific POS tag\n",
    "            if synset:  # If there's a matching synset, take the first one\n",
    "                synsets.append(synset[0])\n",
    "\n",
    "    return synsets\n",
    "    \n",
    "def similarity_score(s1, s2):\n",
    "    \"\"\"\n",
    "    Calculate the normalized similarity score of s1 onto s2\n",
    "\n",
    "    For each synset in s1, finds the synset in s2 with the largest similarity value.\n",
    "    Sum of all of the largest similarity values and normalize this value by dividing it by the\n",
    "    number of largest similarity values found.\n",
    "\n",
    "    Args:\n",
    "        s1, s2: list of synsets from doc_to_synsets\n",
    "\n",
    "    Returns:\n",
    "        normalized similarity score of s1 onto s2\n",
    "\n",
    "    Example:\n",
    "        synsets1 = doc_to_synsets('I like cats')\n",
    "        synsets2 = doc_to_synsets('I like dogs')\n",
    "        similarity_score(synsets1, synsets2)\n",
    "        Out: 0.7333333333333333\n",
    "    \"\"\"\n",
    "    max_sim = []\n",
    "    \n",
    "    # Loop through each synset in s1\n",
    "    for synsets_1 in s1:\n",
    "        sim = []  # List for storing similarities, including None as 0\n",
    "        \n",
    "        # Print synset for debugging purposes\n",
    "        #print(f\"Comparing synset: {synsets_1.name()}\")\n",
    "        \n",
    "        # Compute the path similarity for each synset in s2\n",
    "        for synsets_2 in s2:\n",
    "            similarity = synsets_1.path_similarity(synsets_2)\n",
    "            \n",
    "            if similarity is None:  # If similarity is None, treat as 0.0\n",
    "                similarity = 0.0\n",
    "            \n",
    "            sim.append(similarity)\n",
    "            \n",
    "            # Print similarity for debugging\n",
    "            #print(f\"  Similarity with {synsets_2.name()}: {similarity}\")\n",
    "        \n",
    "        # If valid similarities are found, append the maximum similarity\n",
    "        max_sim.append(max(sim))\n",
    "        #print(f\"  Max similarity for {synsets_1.name()}: {max(sim)}\")\n",
    "    \n",
    "    # Return the mean of max similarities (including 0 for None), or 0.0 if no valid similarities were found\n",
    "    return np.mean(max_sim) if max_sim else 0.0"
   ]
  },
  {
   "cell_type": "code",
   "execution_count": 3,
   "metadata": {},
   "outputs": [
    {
     "data": {
      "text/plain": [
       "[Synset('multiple_sclerosis.n.01'),\n",
       " Synset('stewart.n.01'),\n",
       " Synset('sixty-one.s.01'),\n",
       " Synset('information_technology.n.01'),\n",
       " Synset('chief.s.01'),\n",
       " Synset('executive.a.01'),\n",
       " Synset('military_officer.n.01'),\n",
       " Synset('president.n.04'),\n",
       " Synset('make.v.01'),\n",
       " Synset('not.r.01'),\n",
       " Synset('attend.v.01')]"
      ]
     },
     "execution_count": 3,
     "metadata": {},
     "output_type": "execute_result"
    }
   ],
   "source": [
    "# Example Usage for doc_to_synsets:\n",
    "doc_to_synsets('Ms Stewart, 61, its chief executive officer and chairwoman, did not attend.\\n') #same as the output given in discussion forum course mentor comments"
   ]
  },
  {
   "cell_type": "code",
   "execution_count": 4,
   "metadata": {},
   "outputs": [
    {
     "name": "stdout",
     "output_type": "stream",
     "text": [
      "Synsets for doc1: ['multiple_sclerosis.n.01', 'stewart.n.01', 'chief.s.01', 'executive.n.01', 'be.v.01', 'not.r.01', 'expect.v.01', 'attend.v.01']\n",
      "Synsets for doc2: ['multiple_sclerosis.n.01', 'stewart.n.01', 'sixty-one.s.01', 'information_technology.n.01', 'chief.s.01', 'executive.a.01', 'military_officer.n.01', 'president.n.04', 'make.v.01', 'not.r.01', 'attend.v.01']\n",
      "Similarity score: 0.7125\n"
     ]
    }
   ],
   "source": [
    "# Example Usage for similarity:\n",
    "synsets1 = doc_to_synsets('Ms Stewart, the chief executive, was not expected to attend.')\n",
    "synsets2 = doc_to_synsets('Ms Stewart, 61, its chief executive officer and chairwoman, did not attend.\\n')\n",
    "\n",
    "print(\"Synsets for doc1:\", [synset.name() for synset in synsets1])\n",
    "print(\"Synsets for doc2:\", [synset.name() for synset in synsets2])\n",
    "\n",
    "similarity = similarity_score(synsets1, synsets2)\n",
    "print(f\"Similarity score: {similarity}\")"
   ]
  },
  {
   "cell_type": "code",
   "execution_count": 5,
   "metadata": {
    "deletable": false,
    "editable": false,
    "nbgrader": {
     "cell_type": "code",
     "checksum": "bfc6773bd020f674a6501b97e9e20079",
     "grade": false,
     "grade_id": "cell-314b4a30aa06ad7e",
     "locked": true,
     "schema_version": 3,
     "solution": false,
     "task": false
    }
   },
   "outputs": [],
   "source": [
    "def document_path_similarity(doc1, doc2):\n",
    "    \"\"\"Finds the symmetrical similarity between doc1 and doc2\"\"\"\n",
    "\n",
    "    synsets1 = doc_to_synsets(doc1)\n",
    "    synsets2 = doc_to_synsets(doc2)\n",
    "\n",
    "    return (similarity_score(synsets1, synsets2) + similarity_score(synsets2, synsets1)) / 2"
   ]
  },
  {
   "cell_type": "code",
   "execution_count": 6,
   "metadata": {},
   "outputs": [
    {
     "data": {
      "text/plain": [
       "0.7333333333333334"
      ]
     },
     "execution_count": 6,
     "metadata": {},
     "output_type": "execute_result"
    }
   ],
   "source": [
    "document_path_similarity('I like cat','I like dog') # Same value 0.73333 returned in the questions example given in the red comment"
   ]
  },
  {
   "cell_type": "code",
   "execution_count": null,
   "metadata": {
    "deletable": false,
    "editable": false,
    "nbgrader": {
     "cell_type": "code",
     "checksum": "ff03c992760f7041ff7c19303da36d04",
     "grade": true,
     "grade_id": "cell-8513adbb001100a6",
     "locked": true,
     "points": 1,
     "schema_version": 3,
     "solution": false,
     "task": false
    }
   },
   "outputs": [],
   "source": []
  },
  {
   "cell_type": "markdown",
   "metadata": {
    "deletable": false,
    "editable": false,
    "nbgrader": {
     "cell_type": "markdown",
     "checksum": "510e481c575da27a1f9b30e18e205322",
     "grade": false,
     "grade_id": "cell-e0e4fb9c6ee002af",
     "locked": true,
     "schema_version": 3,
     "solution": false,
     "task": false
    }
   },
   "source": [
    "`paraphrases` is a DataFrame which contains the following columns: `Quality`, `D1`, and `D2`.\n",
    "\n",
    "`Quality` is an indicator variable which indicates if the two documents `D1` and `D2` are paraphrases of one another (1 for paraphrase, 0 for not paraphrase)."
   ]
  },
  {
   "cell_type": "code",
   "execution_count": 7,
   "metadata": {
    "deletable": false,
    "editable": false,
    "nbgrader": {
     "cell_type": "code",
     "checksum": "bb713a63ffb7b1b3471c7a1e99725201",
     "grade": false,
     "grade_id": "cell-4c40d18c6c90bcf9",
     "locked": true,
     "schema_version": 3,
     "solution": false,
     "task": false
    }
   },
   "outputs": [
    {
     "data": {
      "text/html": [
       "<div>\n",
       "<style scoped>\n",
       "    .dataframe tbody tr th:only-of-type {\n",
       "        vertical-align: middle;\n",
       "    }\n",
       "\n",
       "    .dataframe tbody tr th {\n",
       "        vertical-align: top;\n",
       "    }\n",
       "\n",
       "    .dataframe thead th {\n",
       "        text-align: right;\n",
       "    }\n",
       "</style>\n",
       "<table border=\"1\" class=\"dataframe\">\n",
       "  <thead>\n",
       "    <tr style=\"text-align: right;\">\n",
       "      <th></th>\n",
       "      <th>Quality</th>\n",
       "      <th>D1</th>\n",
       "      <th>D2</th>\n",
       "    </tr>\n",
       "  </thead>\n",
       "  <tbody>\n",
       "    <tr>\n",
       "      <th>0</th>\n",
       "      <td>1</td>\n",
       "      <td>Ms Stewart, the chief executive, was not expec...</td>\n",
       "      <td>Ms Stewart, 61, its chief executive officer an...</td>\n",
       "    </tr>\n",
       "    <tr>\n",
       "      <th>1</th>\n",
       "      <td>1</td>\n",
       "      <td>After more than two years' detention under the...</td>\n",
       "      <td>After more than two years in detention by the ...</td>\n",
       "    </tr>\n",
       "    <tr>\n",
       "      <th>2</th>\n",
       "      <td>1</td>\n",
       "      <td>\"It still remains to be seen whether the reven...</td>\n",
       "      <td>\"It remains to be seen whether the revenue rec...</td>\n",
       "    </tr>\n",
       "    <tr>\n",
       "      <th>3</th>\n",
       "      <td>0</td>\n",
       "      <td>And it's going to be a wild ride,\" said Allan ...</td>\n",
       "      <td>Now the rest is just mechanical,\" said Allan H...</td>\n",
       "    </tr>\n",
       "    <tr>\n",
       "      <th>4</th>\n",
       "      <td>1</td>\n",
       "      <td>The cards are issued by Mexico's consulates to...</td>\n",
       "      <td>The card is issued by Mexico's consulates to i...</td>\n",
       "    </tr>\n",
       "  </tbody>\n",
       "</table>\n",
       "</div>"
      ],
      "text/plain": [
       "   Quality                                                 D1  \\\n",
       "0        1  Ms Stewart, the chief executive, was not expec...   \n",
       "1        1  After more than two years' detention under the...   \n",
       "2        1  \"It still remains to be seen whether the reven...   \n",
       "3        0  And it's going to be a wild ride,\" said Allan ...   \n",
       "4        1  The cards are issued by Mexico's consulates to...   \n",
       "\n",
       "                                                  D2  \n",
       "0  Ms Stewart, 61, its chief executive officer an...  \n",
       "1  After more than two years in detention by the ...  \n",
       "2  \"It remains to be seen whether the revenue rec...  \n",
       "3  Now the rest is just mechanical,\" said Allan H...  \n",
       "4  The card is issued by Mexico's consulates to i...  "
      ]
     },
     "execution_count": 7,
     "metadata": {},
     "output_type": "execute_result"
    }
   ],
   "source": [
    "# Use this dataframe for questions most_similar_docs and label_accuracy\n",
    "paraphrases = pd.read_csv('assets/paraphrases.csv')\n",
    "paraphrases.head()"
   ]
  },
  {
   "cell_type": "markdown",
   "metadata": {
    "deletable": false,
    "editable": false,
    "nbgrader": {
     "cell_type": "markdown",
     "checksum": "dc3742e572649c3961a1400794bf7080",
     "grade": false,
     "grade_id": "cell-bd634ad070710c0a",
     "locked": true,
     "schema_version": 3,
     "solution": false,
     "task": false
    }
   },
   "source": [
    "___\n",
    "\n",
    "### most_similar_docs\n",
    "\n",
    "Using `document_path_similarity`, find the pair of documents in paraphrases which has the maximum similarity score.\n",
    "\n",
    "*This function should return a tuple `(D1, D2, similarity_score)`*"
   ]
  },
  {
   "cell_type": "code",
   "execution_count": 8,
   "metadata": {
    "deletable": false,
    "nbgrader": {
     "cell_type": "code",
     "checksum": "53240536e14a8ea515062fba69ee6816",
     "grade": false,
     "grade_id": "cell-a9043a8e87723e7f",
     "locked": false,
     "schema_version": 3,
     "solution": true,
     "task": false
    }
   },
   "outputs": [
    {
     "data": {
      "text/plain": [
       "('\"Indeed, Iran should be put on notice that efforts to try to remake Iraq in their image will be aggressively put down,\" he said.',\n",
       " '\"Iran should be on notice that attempts to remake Iraq in Iran\\'s image will be aggressively put down,\" he said.\\n',\n",
       " 0.9590643274853801)"
      ]
     },
     "execution_count": 8,
     "metadata": {},
     "output_type": "execute_result"
    }
   ],
   "source": [
    "def most_similar_docs():\n",
    "    \n",
    "    # YOUR CODE HERE\n",
    "    \n",
    "    # Calculate similarity scores for each pair of documents\n",
    "    similarity_score = [document_path_similarity(x, y) for x, y in zip(paraphrases['D1'], paraphrases['D2'])]\n",
    "    \n",
    "    # Find the index of the maximum similarity score\n",
    "    max_index = np.argmax(similarity_score)\n",
    "    \n",
    "    # Retrieve the corresponding pair of documents and the maximum similarity score\n",
    "    D1 = paraphrases.loc[max_index, 'D1']\n",
    "    D2 = paraphrases.loc[max_index, 'D2']\n",
    "    max_score = similarity_score[max_index]\n",
    "    \n",
    "    return (D1, D2, max_score)\n",
    "\n",
    "most_similar_docs()"
   ]
  },
  {
   "cell_type": "code",
   "execution_count": null,
   "metadata": {
    "deletable": false,
    "editable": false,
    "nbgrader": {
     "cell_type": "code",
     "checksum": "8ef9ca58e161295ada11fe2e80a877d0",
     "grade": true,
     "grade_id": "cell-3fedb973b11cff11",
     "locked": true,
     "points": 1,
     "schema_version": 3,
     "solution": false,
     "task": false
    }
   },
   "outputs": [],
   "source": []
  },
  {
   "cell_type": "markdown",
   "metadata": {
    "deletable": false,
    "editable": false,
    "nbgrader": {
     "cell_type": "markdown",
     "checksum": "920f6dd60584558a367d6d6cc96b2d40",
     "grade": false,
     "grade_id": "cell-324e2e400c533ee8",
     "locked": true,
     "schema_version": 3,
     "solution": false,
     "task": false
    }
   },
   "source": [
    "### label_accuracy\n",
    "\n",
    "Provide labels for the twenty pairs of documents by computing the similarity for each pair using `document_path_similarity`. Let the classifier rule be that if the score is greater than 0.75, label is paraphrase (1), else label is paraphrase (0). Report accuracy of the classifier using scikit-learn's accuracy_score.\n",
    "\n",
    "*This function should return a float.*"
   ]
  },
  {
   "cell_type": "code",
   "execution_count": 9,
   "metadata": {
    "deletable": false,
    "nbgrader": {
     "cell_type": "code",
     "checksum": "679249da013c7ed60aa06dd8b8630997",
     "grade": false,
     "grade_id": "cell-9e32dbbdb446b28d",
     "locked": false,
     "schema_version": 3,
     "solution": true,
     "task": false
    }
   },
   "outputs": [
    {
     "data": {
      "text/plain": [
       "0.7"
      ]
     },
     "execution_count": 9,
     "metadata": {},
     "output_type": "execute_result"
    }
   ],
   "source": [
    "def label_accuracy():\n",
    "    from sklearn.metrics import accuracy_score\n",
    "    \n",
    "    # YOUR CODE HERE\n",
    "\n",
    "    # Calculate the similarity scores for each pair of documents\n",
    "    paraphrases['similarity_score'] = [document_path_similarity(x, y) for x, y in zip(paraphrases['D1'], paraphrases['D2'])]\n",
    "    \n",
    "    # Apply classifier rule: If similarity score > 0.75, label as 1 (paraphrase), else 0 (not paraphrase)\n",
    "    paraphrases['predicted_label'] = np.where(paraphrases['similarity_score'] > 0.75, 1, 0)\n",
    "    \n",
    "    # Compute and return accuracy using sklearn's accuracy_score\n",
    "    return accuracy_score(paraphrases['Quality'], paraphrases['predicted_label'])\n",
    "\n",
    "label_accuracy()"
   ]
  },
  {
   "cell_type": "code",
   "execution_count": null,
   "metadata": {
    "deletable": false,
    "editable": false,
    "nbgrader": {
     "cell_type": "code",
     "checksum": "f83172ce251c4665a2d20e210f333568",
     "grade": true,
     "grade_id": "cell-38683a0be95791b4",
     "locked": true,
     "points": 1,
     "schema_version": 3,
     "solution": false,
     "task": false
    }
   },
   "outputs": [],
   "source": []
  },
  {
   "cell_type": "markdown",
   "metadata": {
    "deletable": false,
    "editable": false,
    "nbgrader": {
     "cell_type": "markdown",
     "checksum": "b44e3f41d8229552249a94004bd682b4",
     "grade": false,
     "grade_id": "cell-69b6f071d2a015d1",
     "locked": true,
     "schema_version": 3,
     "solution": false,
     "task": false
    }
   },
   "source": [
    "## Part 2 - Topic Modelling\n",
    "\n",
    "For the second part of this assignment, you will use Gensim's LDA (Latent Dirichlet Allocation) model to model topics in `newsgroup_data`. You will first need to finish the code in the cell below by using gensim.models.ldamodel.LdaModel constructor to estimate LDA model parameters on the corpus, and save to the variable `ldamodel`. Extract 10 topics using `corpus` and `id_map`, and with `passes=25` and `random_state=34`."
   ]
  },
  {
   "cell_type": "markdown",
   "metadata": {},
   "source": [
    "--> A pickled file refers to a file that contains data serialized using Python's pickle module. Serialization, or \"pickling,\" is the process of converting a Python object (e.g., a list, dictionary, or custom object) into a byte stream, so that it can be saved to a file, transmitted over a network, or stored for later use. Pickling allows you to save complex data structures (like machine learning models, data frames, lists, etc.) to a file so you can load them later without needing to recompute or reload the data.\n",
    "\n",
    "--> The 'rb' in the context of opening a file in Python stands for \"read binary\" mode.\n",
    "\n",
    "--> Definition: This parameter removes common English stop words from the text. Stop words are common words such as \"the\", \"is\", \"in\", \"at\", \"and\", \"for\", etc., that typically don’t carry meaningful information for text analysis or modeling.\n",
    "\n",
    "--> This regular expression defines the pattern for what constitutes a \"token\" (word) in the text. The pattern (?u)\\\\b\\\\w\\\\w\\\\w+\\\\b specifies that a token must consist of three or more word characters. This part of the regular expression tells Python to use Unicode character classes for matching.\n",
    "\n",
    "--> vect.vocabulary_ is a dictionary mapping words to indices. id_map reverses this mapping, creating a dictionary that maps indices to words. This reverse mapping is useful when you want to interpret the indices from a document-term matrix and convert them back to the original words."
   ]
  },
  {
   "cell_type": "code",
   "execution_count": 10,
   "metadata": {
    "deletable": false,
    "editable": false,
    "nbgrader": {
     "cell_type": "code",
     "checksum": "233c1b01c469bc03afff6a117d5859bb",
     "grade": false,
     "grade_id": "cell-badd89f1cf3388f3",
     "locked": true,
     "schema_version": 3,
     "solution": false,
     "task": false
    }
   },
   "outputs": [],
   "source": [
    "import pickle\n",
    "import gensim\n",
    "from sklearn.feature_extraction.text import CountVectorizer\n",
    "\n",
    "# Load the list of documents\n",
    "with open('assets/newsgroups', 'rb') as f:\n",
    "    newsgroup_data = pickle.load(f)\n",
    "\n",
    "# Use CountVectorizor to find three letter tokens, remove stop_words, \n",
    "# remove tokens that don't appear in at least 20 documents,\n",
    "# remove tokens that appear in more than 20% of the documents\n",
    "vect = CountVectorizer(min_df=20, max_df=0.2, stop_words='english', \n",
    "                       token_pattern='(?u)\\\\b\\\\w\\\\w\\\\w+\\\\b')\n",
    "# Fit and transform\n",
    "X = vect.fit_transform(newsgroup_data)\n",
    "\n",
    "# Convert sparse matrix to gensim corpus.\n",
    "corpus = gensim.matutils.Sparse2Corpus(X, documents_columns=False)\n",
    "\n",
    "# Mapping from word IDs to words (To be used in LdaModel's id2word parameter)\n",
    "id_map = dict((v, k) for k, v in vect.vocabulary_.items())\n"
   ]
  },
  {
   "cell_type": "code",
   "execution_count": 12,
   "metadata": {
    "deletable": false,
    "nbgrader": {
     "cell_type": "code",
     "checksum": "9428fc4a1c574c41e90c5f9035b188c9",
     "grade": false,
     "grade_id": "cell-335faff9e0486431",
     "locked": false,
     "schema_version": 3,
     "solution": true,
     "task": false
    }
   },
   "outputs": [],
   "source": [
    "# Use the gensim.models.ldamodel.LdaModel constructor to estimate \n",
    "# LDA model parameters on the corpus, and save to the variable `ldamodel`\n",
    "\n",
    "\n",
    "# YOUR CODE HERE\n",
    "ldamodel = gensim.models.ldamodel.LdaModel(corpus, num_topics=10, passes=25, random_state=34, id2word=id_map)\n"
   ]
  },
  {
   "cell_type": "markdown",
   "metadata": {
    "deletable": false,
    "editable": false,
    "nbgrader": {
     "cell_type": "markdown",
     "checksum": "08aa0097d5b8ea6e1f242bea0a1c2f1f",
     "grade": false,
     "grade_id": "cell-8761473b2afdb2a0",
     "locked": true,
     "schema_version": 3,
     "solution": false,
     "task": false
    }
   },
   "source": [
    "### lda_topics\n",
    "\n",
    "Using `ldamodel`, find a list of the 10 topics and the most significant 10 words in each topic. This should be structured as a list of 10 tuples where each tuple takes on the form:\n",
    "\n",
    "`(9, '0.068*\"space\" + 0.036*\"nasa\" + 0.021*\"science\" + 0.020*\"edu\" + 0.019*\"data\" + 0.017*\"shuttle\" + 0.015*\"launch\" + 0.015*\"available\" + 0.014*\"center\" + 0.013*\"information\"')`\n",
    "\n",
    "for example.\n",
    "\n",
    "*This function should return a list of tuples.*"
   ]
  },
  {
   "cell_type": "code",
   "execution_count": 13,
   "metadata": {
    "deletable": false,
    "nbgrader": {
     "cell_type": "code",
     "checksum": "9635c4874774a2fe8b6ba666622bf618",
     "grade": false,
     "grade_id": "cell-3626921bb392f4cf",
     "locked": false,
     "schema_version": 3,
     "solution": true,
     "task": false
    }
   },
   "outputs": [
    {
     "data": {
      "text/plain": [
       "[(0,\n",
       "  '0.056*\"edu\" + 0.043*\"com\" + 0.033*\"thanks\" + 0.022*\"mail\" + 0.021*\"know\" + 0.020*\"does\" + 0.014*\"info\" + 0.012*\"monitor\" + 0.010*\"looking\" + 0.010*\"don\"'),\n",
       " (1,\n",
       "  '0.024*\"ground\" + 0.018*\"current\" + 0.018*\"just\" + 0.013*\"want\" + 0.013*\"use\" + 0.011*\"using\" + 0.011*\"used\" + 0.010*\"power\" + 0.010*\"speed\" + 0.010*\"output\"'),\n",
       " (2,\n",
       "  '0.061*\"drive\" + 0.042*\"disk\" + 0.033*\"scsi\" + 0.030*\"drives\" + 0.028*\"hard\" + 0.028*\"controller\" + 0.027*\"card\" + 0.020*\"rom\" + 0.018*\"floppy\" + 0.017*\"bus\"'),\n",
       " (3,\n",
       "  '0.023*\"time\" + 0.015*\"atheism\" + 0.014*\"list\" + 0.013*\"left\" + 0.012*\"alt\" + 0.012*\"faq\" + 0.012*\"probably\" + 0.011*\"know\" + 0.011*\"send\" + 0.010*\"months\"'),\n",
       " (4,\n",
       "  '0.025*\"car\" + 0.016*\"just\" + 0.014*\"don\" + 0.014*\"bike\" + 0.012*\"good\" + 0.011*\"new\" + 0.011*\"think\" + 0.010*\"year\" + 0.010*\"cars\" + 0.010*\"time\"'),\n",
       " (5,\n",
       "  '0.030*\"game\" + 0.027*\"team\" + 0.023*\"year\" + 0.017*\"games\" + 0.016*\"play\" + 0.012*\"season\" + 0.012*\"players\" + 0.012*\"win\" + 0.011*\"hockey\" + 0.011*\"good\"'),\n",
       " (6,\n",
       "  '0.017*\"information\" + 0.014*\"help\" + 0.014*\"medical\" + 0.012*\"new\" + 0.012*\"use\" + 0.012*\"000\" + 0.012*\"research\" + 0.011*\"university\" + 0.010*\"number\" + 0.010*\"program\"'),\n",
       " (7,\n",
       "  '0.022*\"don\" + 0.021*\"people\" + 0.018*\"think\" + 0.017*\"just\" + 0.012*\"say\" + 0.011*\"know\" + 0.011*\"does\" + 0.011*\"good\" + 0.010*\"god\" + 0.009*\"way\"'),\n",
       " (8,\n",
       "  '0.034*\"use\" + 0.023*\"apple\" + 0.020*\"power\" + 0.016*\"time\" + 0.015*\"data\" + 0.015*\"software\" + 0.012*\"pin\" + 0.012*\"memory\" + 0.012*\"simms\" + 0.011*\"port\"'),\n",
       " (9,\n",
       "  '0.068*\"space\" + 0.036*\"nasa\" + 0.021*\"science\" + 0.020*\"edu\" + 0.019*\"data\" + 0.017*\"shuttle\" + 0.015*\"launch\" + 0.015*\"available\" + 0.014*\"center\" + 0.014*\"sci\"')]"
      ]
     },
     "execution_count": 13,
     "metadata": {},
     "output_type": "execute_result"
    }
   ],
   "source": [
    "def lda_topics():\n",
    "    \n",
    "    # YOUR CODE HERE\n",
    "    return list(ldamodel.print_topics(num_topics=10, num_words=10))\n",
    "    raise NotImplementedError()\n",
    "    \n",
    "lda_topics()"
   ]
  },
  {
   "cell_type": "code",
   "execution_count": 14,
   "metadata": {},
   "outputs": [
    {
     "name": "stdout",
     "output_type": "stream",
     "text": [
      "Topic 0: edu, com, thanks, mail, know, does, info, monitor, looking, don\n",
      "Topic 1: ground, current, just, want, use, using, used, power, speed, output\n",
      "Topic 2: drive, disk, scsi, drives, hard, controller, card, rom, floppy, bus\n",
      "Topic 3: time, atheism, list, left, alt, faq, probably, know, send, months\n",
      "Topic 4: car, just, don, bike, good, new, think, year, cars, time\n",
      "Topic 5: game, team, year, games, play, season, players, win, hockey, good\n",
      "Topic 6: information, help, medical, new, use, 000, research, university, number, program\n",
      "Topic 7: don, people, think, just, say, know, does, good, god, way\n",
      "Topic 8: use, apple, power, time, data, software, pin, memory, simms, port\n",
      "Topic 9: space, nasa, science, edu, data, shuttle, launch, available, center, sci\n"
     ]
    }
   ],
   "source": [
    "# Example usage, extract topics and print top words\n",
    "topics_list = []\n",
    "for topic in lda_topics():\n",
    "    topic_index, words_str = topic\n",
    "    words = words_str.split(' + ')  # Split the words from their weights\n",
    "    words = [word.split('*')[1].replace('\"', '') for word in words]  # Extract just the words\n",
    "    topics_list.append((topic_index, words))\n",
    "# topics_list is in this format e.g. [(0, ['edu','com','thanks','mail','know','does','info','monitor','looking','don']),(1,['ground','current','just','want','use','using','used','power','speed','output']),\n",
    "    \n",
    "# Display the topics\n",
    "for topic in topics_list:\n",
    "    print(f\"Topic {topic[0]}: {', '.join(topic[1])}\") "
   ]
  },
  {
   "cell_type": "code",
   "execution_count": null,
   "metadata": {
    "deletable": false,
    "editable": false,
    "nbgrader": {
     "cell_type": "code",
     "checksum": "5b00589df439c4ea31976a1c50a4abce",
     "grade": true,
     "grade_id": "cell-be3408e13d501ecb",
     "locked": true,
     "points": 1,
     "schema_version": 3,
     "solution": false,
     "task": false
    }
   },
   "outputs": [],
   "source": []
  },
  {
   "cell_type": "markdown",
   "metadata": {
    "deletable": false,
    "editable": false,
    "nbgrader": {
     "cell_type": "markdown",
     "checksum": "955ee10e095bd549182a9d18177d84b8",
     "grade": false,
     "grade_id": "cell-5cb2ba78a730107f",
     "locked": true,
     "schema_version": 3,
     "solution": false,
     "task": false
    }
   },
   "source": [
    "### topic_distribution\n",
    "\n",
    "For the new document `new_doc`, find the topic distribution. Remember to use vect.transform on the the new doc, and Sparse2Corpus to convert the sparse matrix to gensim corpus.\n",
    "\n",
    "*This function should return a list of tuples, where each tuple is `(#topic, probability)`*"
   ]
  },
  {
   "cell_type": "code",
   "execution_count": 15,
   "metadata": {
    "deletable": false,
    "editable": false,
    "nbgrader": {
     "cell_type": "code",
     "checksum": "178e83cfb938733a4ce0dfc9d397a15b",
     "grade": false,
     "grade_id": "cell-57807620ac95b62a",
     "locked": true,
     "schema_version": 3,
     "solution": false,
     "task": false
    }
   },
   "outputs": [],
   "source": [
    "new_doc = [\"\\n\\nIt's my understanding that the freezing will start to occur because \\\n",
    "of the\\ngrowing distance of Pluto and Charon from the Sun, due to it's\\nelliptical orbit. \\\n",
    "It is not due to shadowing effects. \\n\\n\\nPluto can shadow Charon, and vice-versa.\\n\\nGeorge \\\n",
    "Krumins\\n-- \"]"
   ]
  },
  {
   "cell_type": "code",
   "execution_count": 16,
   "metadata": {
    "deletable": false,
    "nbgrader": {
     "cell_type": "code",
     "checksum": "f407a0d5d3d8ffe64a10489b1a2f71c3",
     "grade": false,
     "grade_id": "cell-2efe69c14930ff13",
     "locked": false,
     "schema_version": 3,
     "solution": true,
     "task": false
    }
   },
   "outputs": [
    {
     "data": {
      "text/plain": [
       "[(0, 0.020003108),\n",
       " (1, 0.020003324),\n",
       " (2, 0.020001281),\n",
       " (3, 0.49674824),\n",
       " (4, 0.020004038),\n",
       " (5, 0.020004129),\n",
       " (6, 0.020002972),\n",
       " (7, 0.020002645),\n",
       " (8, 0.020003129),\n",
       " (9, 0.34322715)]"
      ]
     },
     "execution_count": 16,
     "metadata": {},
     "output_type": "execute_result"
    }
   ],
   "source": [
    "def topic_distribution():\n",
    "    \n",
    "    # YOUR CODE HERE\n",
    "    sparse_doc = vect.transform(new_doc)\n",
    "    gen_corpus = gensim.matutils.Sparse2Corpus(sparse_doc, documents_columns=False)\n",
    "    \n",
    "    # Get the topic distribution for the new document\n",
    "    topic_distribution = ldamodel.get_document_topics(gen_corpus)\n",
    "\n",
    "    \n",
    "    # Get the first element because the result is a list with only one document (since we only have one document)\n",
    "    topic_prob = topic_distribution[0]\n",
    "\n",
    "    return topic_prob\n",
    "    \n",
    "topic_distribution()"
   ]
  },
  {
   "cell_type": "code",
   "execution_count": 17,
   "metadata": {},
   "outputs": [
    {
     "name": "stdout",
     "output_type": "stream",
     "text": [
      "Topic 0: 0.0200\n",
      "Topic 1: 0.0200\n",
      "Topic 2: 0.0200\n",
      "Topic 3: 0.4968\n",
      "Topic 4: 0.0200\n",
      "Topic 5: 0.0200\n",
      "Topic 6: 0.0200\n",
      "Topic 7: 0.0200\n",
      "Topic 8: 0.0200\n",
      "Topic 9: 0.3432\n"
     ]
    }
   ],
   "source": [
    "# Example of iterating through the topic distribution\n",
    "for topic_id, prob in topic_distribution():\n",
    "    print(f\"Topic {topic_id}: {prob:.4f}\")"
   ]
  },
  {
   "cell_type": "code",
   "execution_count": null,
   "metadata": {
    "deletable": false,
    "editable": false,
    "nbgrader": {
     "cell_type": "code",
     "checksum": "525d35a1a77b065ac55b4800e53f1efa",
     "grade": true,
     "grade_id": "cell-9a7e35944a145c49",
     "locked": true,
     "points": 1,
     "schema_version": 3,
     "solution": false,
     "task": false
    }
   },
   "outputs": [],
   "source": []
  },
  {
   "cell_type": "markdown",
   "metadata": {
    "deletable": false,
    "editable": false,
    "nbgrader": {
     "cell_type": "markdown",
     "checksum": "b4d7fdb7d4d08f321b4b0199a59e867d",
     "grade": false,
     "grade_id": "cell-edd0c66c43ce9b3c",
     "locked": true,
     "schema_version": 3,
     "solution": false,
     "task": false
    }
   },
   "source": [
    "### topic_names\n",
    "\n",
    "From the list of the following given topics, assign topic names to the topics you found. If none of these names best matches the topics you found, create a new 1-3 word \"title\" for the topic.\n",
    "\n",
    "Topics: Health, Science, Automobiles, Politics, Government, Travel, Computers & IT, Sports, Business, Society & Lifestyle, Religion, Education.\n",
    "\n",
    "*This function should return a list of 10 strings.*"
   ]
  },
  {
   "cell_type": "code",
   "execution_count": null,
   "metadata": {
    "deletable": false,
    "nbgrader": {
     "cell_type": "code",
     "checksum": "dfdbbdac5cb54200701c3e5a11c179d7",
     "grade": false,
     "grade_id": "cell-06fc668c4104c2d2",
     "locked": false,
     "schema_version": 3,
     "solution": true,
     "task": false
    }
   },
   "outputs": [],
   "source": [
    "def topic_names():\n",
    "    \n",
    "    # YOUR CODE HERE\n",
    "    return ['Education','Science','Computers & IT','Religion','Automobiles','Sports','Science','Religion','Computers & IT','Science']\n",
    "\n",
    "topic_names()\n"
   ]
  },
  {
   "cell_type": "code",
   "execution_count": null,
   "metadata": {
    "deletable": false,
    "editable": false,
    "nbgrader": {
     "cell_type": "code",
     "checksum": "c7d78951c158c0911f860154707c68e5",
     "grade": true,
     "grade_id": "cell-78ea383cc25da8da",
     "locked": true,
     "points": 1,
     "schema_version": 3,
     "solution": false,
     "task": false
    }
   },
   "outputs": [],
   "source": []
  }
 ],
 "metadata": {
  "coursera": {
   "course_slug": "python-text-mining",
   "graded_item_id": "2qbcK",
   "launcher_item_id": "pi9Sh",
   "part_id": "kQiwX"
  },
  "kernelspec": {
   "display_name": "Python 3 (ipykernel)",
   "language": "python",
   "name": "python3"
  },
  "language_info": {
   "codemirror_mode": {
    "name": "ipython",
    "version": 3
   },
   "file_extension": ".py",
   "mimetype": "text/x-python",
   "name": "python",
   "nbconvert_exporter": "python",
   "pygments_lexer": "ipython3",
   "version": "3.9.13"
  },
  "vscode": {
   "interpreter": {
    "hash": "aee8b7b246df8f9039afb4144a1f6fd8d2ca17a180786b69acc140d282b71a49"
   }
  }
 },
 "nbformat": 4,
 "nbformat_minor": 4
}
